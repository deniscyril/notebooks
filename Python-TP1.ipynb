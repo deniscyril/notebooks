{
 "cells": [
  {
   "cell_type": "markdown",
   "metadata": {},
   "source": [
    "# Fiche 1\n",
    "## Ex 1\n",
    "Mise en forme de chaîne.\n"
   ]
  },
  {
   "cell_type": "code",
   "execution_count": 1,
   "metadata": {},
   "outputs": [
    {
     "name": "stdout",
     "output_type": "stream",
     "text": [
      "       120\n",
      "*       11\n",
      "-----------\n",
      "      1320\n",
      "120  |11   \n",
      "     |--------\n",
      "10   |10   \n"
     ]
    }
   ],
   "source": [
    "nb1 = 120\n",
    "nb2 = 11\n",
    "\n",
    "print(\"{:>10d}\".format(nb1)) #affiche un entier sur un espace de 10 cases justifié à droite\n",
    "# d signifie entier, > justifié à droite\n",
    "chaine = \"*\"+'{:>9d}'.format(nb2)\n",
    "print(chaine)\n",
    "print(\"-----------\")\n",
    "print(\"{:>10d}\".format(nb1*nb2))\n",
    "\n",
    "chaine = '{:<5d}'.format(nb1)+ '|'+ '{:<5d}'.format(nb2)\n",
    "\n",
    "print(chaine)\n",
    "\n",
    "chaine = '{:<5s}'.format(' ')+'|--------' # s signifie string\n",
    "print(chaine)\n",
    "\n",
    "chaine = '{:<5d}'.format(nb1%nb2)+ '|'+ '{:<5d}'.format(nb1//nb2) # // division entière\n",
    "\n",
    "print(chaine)"
   ]
  },
  {
   "cell_type": "markdown",
   "metadata": {},
   "source": [
    "## Ex 2\n",
    "Structure conditionnelle if, elif et else\n"
   ]
  },
  {
   "cell_type": "code",
   "execution_count": 2,
   "metadata": {},
   "outputs": [
    {
     "name": "stdout",
     "output_type": "stream",
     "text": [
      "ils sont égaux\n"
     ]
    }
   ],
   "source": [
    "a = 1\n",
    "b = 1\n",
    "\n",
    "def compare(a,b):\n",
    "    if a < b :\n",
    "        print(\"a plus petit que b\")\n",
    "    elif a > b :\n",
    "        print(\"b plus petit que a\")\n",
    "    else:\n",
    "        print(\"ils sont égaux\")\n",
    "\n",
    "compare(a,b)"
   ]
  },
  {
   "cell_type": "markdown",
   "metadata": {},
   "source": [
    "## Ex 4\n",
    "Equation second degré"
   ]
  },
  {
   "cell_type": "code",
   "execution_count": 3,
   "metadata": {},
   "outputs": [
    {
     "name": "stdout",
     "output_type": "stream",
     "text": [
      "Deux solutions: x1=2.366      et x2= 0.634     \n"
     ]
    }
   ],
   "source": [
    "from math import sqrt # importe sqrt dans la bib math\n",
    "a,b,c = 1,-3,1\n",
    "def eq_second(a,b,c):\n",
    "    delta= b^2-4*a*c\n",
    "    if delta<0 :\n",
    "        return \"pas de solution\"\n",
    "    elif delta>0:\n",
    "        x1 = (-b + sqrt(delta))/2*a\n",
    "        x2 = (-b - sqrt(delta))/2*a\n",
    "        return \"Deux solutions: x1=\"+'{:<10.3f}'.format(x1)+\" et x2= \"+'{:<10.3f}'.format(x2)\n",
    "        # 10 digits 3 chiffres après la virgule\n",
    "    else:\n",
    "        \"une solution str(-b/2a)\"\n",
    "print(eq_second(a,b,c))"
   ]
  },
  {
   "cell_type": "markdown",
   "metadata": {},
   "source": [
    "# Ex 5\n",
    "## Année bisextile"
   ]
  },
  {
   "cell_type": "code",
   "execution_count": 4,
   "metadata": {},
   "outputs": [
    {
     "name": "stdout",
     "output_type": "stream",
     "text": [
      "True\n",
      "False\n"
     ]
    }
   ],
   "source": [
    "def bisextile(an):\n",
    "    bisextile = False\n",
    "    if (an %4 == 0) :\n",
    "        bisextile = True\n",
    "        if (an % 100 == 0) & (an % 400 != 0):\n",
    "            bisextile = False\n",
    "    return bisextile\n",
    "print(bisextile(2000))\n",
    "print(bisextile(1700))"
   ]
  },
  {
   "cell_type": "markdown",
   "metadata": {},
   "source": [
    "# Ex 6"
   ]
  },
  {
   "cell_type": "code",
   "execution_count": 5,
   "metadata": {},
   "outputs": [
    {
     "name": "stdout",
     "output_type": "stream",
     "text": [
      "2.9289682539682538\n",
      "Pour 10 termes, la serie vaut   2.929   \n"
     ]
    }
   ],
   "source": [
    "n = 10\n",
    "compteur=1\n",
    "calcul = 0\n",
    "while compteur<=n:\n",
    "    calcul = calcul +1/compteur\n",
    "    compteur = compteur + 1\n",
    "print(calcul)\n",
    "\n",
    "# Version avec for\n",
    "serie = 0\n",
    "for i in range(1, n+1):\n",
    "    serie = serie + 1 / i\n",
    "print(\"Pour {:^d} termes, la serie vaut {:^10.3f}\".format(n,serie))"
   ]
  },
  {
   "cell_type": "markdown",
   "metadata": {},
   "source": [
    "# Ex 7"
   ]
  },
  {
   "cell_type": "code",
   "execution_count": 6,
   "metadata": {},
   "outputs": [
    {
     "name": "stdout",
     "output_type": "stream",
     "text": [
      "3.0198773448773446\n",
      "12\n"
     ]
    }
   ],
   "source": [
    "v = 3 #valeur à pas dépasser\n",
    "calcul = 0\n",
    "compteur = 1\n",
    "while calcul<v:\n",
    "    calcul = calcul +1/compteur\n",
    "    compteur = compteur + 1\n",
    "print(calcul)\n",
    "print(compteur)\n"
   ]
  },
  {
   "cell_type": "markdown",
   "metadata": {},
   "source": [
    "# Ex 8\n"
   ]
  },
  {
   "cell_type": "code",
   "execution_count": 7,
   "metadata": {},
   "outputs": [
    {
     "data": {
      "text/plain": [
       "[[1.0,\n",
       "  -0.3333333333333333,\n",
       "  0.2,\n",
       "  -0.14285714285714285,\n",
       "  0.1111111111111111,\n",
       "  -0.09090909090909091,\n",
       "  0.07692307692307693,\n",
       "  -0.06666666666666667],\n",
       " 0.7542679542679545]"
      ]
     },
     "execution_count": 7,
     "metadata": {},
     "output_type": "execute_result"
    }
   ],
   "source": [
    "def Sn(nmax):\n",
    "    somme = 0\n",
    "    resultat_terme = []\n",
    "    resultat_somme = []\n",
    "    for n in range(1,2*nmax+1,2): #\n",
    "        iteration =  ((-1)**(n//2)) * (1/n)\n",
    "        somme = somme + iteration\n",
    "        resultat_terme.append(iteration)\n",
    "        resultat_somme.append(somme)\n",
    "\n",
    "    return [resultat_terme,somme]\n",
    "\n",
    "Sn(8)"
   ]
  },
  {
   "cell_type": "markdown",
   "metadata": {},
   "source": [
    "# Ex 9 nombre d'Euler"
   ]
  },
  {
   "cell_type": "code",
   "execution_count": 8,
   "metadata": {},
   "outputs": [
    {
     "name": "stdout",
     "output_type": "stream",
     "text": [
      "rang 3\n",
      "terme  2\n",
      "rang 2\n",
      "terme  1\n",
      "rang 1\n",
      "terme  2\n",
      "2.699802404851302\n"
     ]
    }
   ],
   "source": [
    "e = (2,1,2)\n",
    "n = len(e)\n",
    "\n",
    "for i in range(n-1, -1, -1):\n",
    "    print(\"rang\",i+1)\n",
    "    print(\"terme \",e[i])\n",
    "    calcul = calcul ** (-1) #on inverse\n",
    "    calcul = calcul + e[i] #on ajoute\n",
    "   \n",
    "    \n",
    "print(calcul)"
   ]
  },
  {
   "cell_type": "markdown",
   "metadata": {},
   "source": [
    "# Ex 10 Syracuse"
   ]
  },
  {
   "cell_type": "code",
   "execution_count": 17,
   "metadata": {},
   "outputs": [
    {
     "name": "stdout",
     "output_type": "stream",
     "text": [
      " iteration 1 terme 10\n",
      " iteration 2 terme 5\n",
      " iteration 3 terme 16\n",
      "16\n"
     ]
    }
   ],
   "source": [
    "def syr(u0,n):\n",
    "    iteration = 0\n",
    "    terme_n = u0\n",
    "    while iteration < n:\n",
    "        if terme_n %2 == 0:\n",
    "            terme_n = terme_n //2\n",
    "        else:\n",
    "            terme_n = 3*terme_n +1\n",
    "        iteration += 1\n",
    "        print(' iteration {0} terme {1}'.format(iteration, terme_n))\n",
    "    return terme_n\n",
    "print(syr(3,3))\n",
    "    \n",
    "    \n",
    "    "
   ]
  },
  {
   "cell_type": "markdown",
   "metadata": {},
   "source": [
    "# Ex 11 tuples"
   ]
  },
  {
   "cell_type": "code",
   "execution_count": 34,
   "metadata": {},
   "outputs": [
    {
     "name": "stdout",
     "output_type": "stream",
     "text": [
      "(3, 0)\n",
      "(3, 1)\n",
      "Le module du nombre complexe 1+3i de  vaut 10.00 \n"
     ]
    }
   ],
   "source": [
    "a= 1\n",
    "b= 3\n",
    "nb_cpx = (a,b)\n",
    "def affiche(nb):\n",
    "    return \"nombre complexe {0}+{1}i\".format(nb[0],nb[1])\n",
    "#affiche(nb_cpx)\n",
    "def somme(n1,n2): #ajoute deux complexes reçoit un tuple\n",
    "    somme = ( n1[0]+n2[0],n1[1]+n2[1])\n",
    "    return somme # retourne un tuple\n",
    "def produit(n1,n2): #multiplication de deux cpx\n",
    "    return ( n1[0]*n2[0]-n1[1]*n2[1] , n1[1]*n2[0]+n1[0]*n2[1])\n",
    "def module(n1):\n",
    "    return n1[0]*n1[0] + n1[1]*n1[1]\n",
    "print(somme((1,1),(2,-1)))\n",
    "print(produit((1,1),(2,-1)))\n",
    "print(\"Le module du {0} de  vaut {1:3.2f} \".format(affiche(nb_cpx),module(nb_cpx)))\n"
   ]
  },
  {
   "cell_type": "code",
   "execution_count": 36,
   "metadata": {},
   "outputs": [
    {
     "name": "stdout",
     "output_type": "stream",
     "text": [
      "2.7182818284590455 2.718281828459045\n"
     ]
    }
   ],
   "source": [
    "import math\n",
    "from functools import reduce\n",
    "def fraccont(coefs):\n",
    "    return reduce(lambda acc, n: n+1/acc, coefs)\n",
    "\n",
    "def geneuler(maxi):\n",
    "    for i in range(maxi, 0, -1):\n",
    "        yield 1\n",
    "        yield 1\n",
    "        yield i*2\n",
    "    yield 1\n",
    "    yield 2        \n",
    "\n",
    "# print(list(geneuler(16))[::-1])\n",
    "print(fraccont(geneuler(1000000)), math.e)"
   ]
  },
  {
   "cell_type": "code",
   "execution_count": null,
   "metadata": {},
   "outputs": [],
   "source": []
  }
 ],
 "metadata": {
  "kernelspec": {
   "display_name": "Python 3",
   "language": "python",
   "name": "python3"
  },
  "language_info": {
   "codemirror_mode": {
    "name": "ipython",
    "version": 3
   },
   "file_extension": ".py",
   "mimetype": "text/x-python",
   "name": "python",
   "nbconvert_exporter": "python",
   "pygments_lexer": "ipython3",
   "version": "3.7.3"
  }
 },
 "nbformat": 4,
 "nbformat_minor": 2
}
